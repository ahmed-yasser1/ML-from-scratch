{
 "cells": [
  {
   "attachments": {},
   "cell_type": "markdown",
   "metadata": {},
   "source": [
    "# Simple Linear Regression"
   ]
  },
  {
   "attachments": {},
   "cell_type": "markdown",
   "metadata": {},
   "source": [
    "- $\\text{Hypothesis Function}$\n",
    "$$ h_\\Theta(x) = \\Theta_0 + \\Theta_1x = \\Theta^T X$$\n",
    "\n",
    "- $\\text{Parameters}$\n",
    "$$ \\Theta_0, \\Theta_1 $$\n",
    "\n",
    "- $\\text{Cost Function}$\n",
    "$$J(\\Theta_0, \\Theta_1) = \\frac{1}{2m}\\sum_{i = 1}^{m}(h_\\Theta(x^{(i)}) - y^{(i)})^2 $$\n",
    "\n",
    "- $\\text{Optimization Goal}$\n",
    "$$\\underset{\\Theta_0, \\Theta_1}{min} \\quad J(\\Theta_0, \\Theta_1) $$\n",
    "\n",
    "- $\\text{Gradient Descent}$\n",
    "$\\text{repeat until convergence}$ {\n",
    "$$ \\Theta_0 := \\Theta_0 - \\alpha \\frac{1}{m}\\sum_{i = 1}^{m}(h_\\Theta(x^{(i)}) - y^{(i)})x_0^{(i)} $$\n",
    "\n",
    "$$ \\Theta_1 := \\Theta_1 - \\alpha \\frac{1}{m}\\sum_{i = 1}^{m}(h_\\Theta(x^{(i)}) - y^{(i)})x_1^{(i)} $$\n",
    "$$\\text{( Simultaneously update } \\Theta_0 \\text{ and } \\Theta_1 \\text{ )}$$\n",
    "\n",
    "}"
   ]
  },
  {
   "attachments": {},
   "cell_type": "markdown",
   "metadata": {},
   "source": [
    "## Import Libraries"
   ]
  },
  {
   "cell_type": "code",
   "execution_count": 149,
   "metadata": {},
   "outputs": [],
   "source": [
    "import numpy as np\n",
    "import pandas as pd\n",
    "from matplotlib import pyplot as plt\n",
    "from sklearn import metrics\n"
   ]
  },
  {
   "attachments": {},
   "cell_type": "markdown",
   "metadata": {},
   "source": [
    "## Import CSV File"
   ]
  },
  {
   "cell_type": "code",
   "execution_count": 150,
   "metadata": {},
   "outputs": [
    {
     "data": {
      "text/html": [
       "<div>\n",
       "<style scoped>\n",
       "    .dataframe tbody tr th:only-of-type {\n",
       "        vertical-align: middle;\n",
       "    }\n",
       "\n",
       "    .dataframe tbody tr th {\n",
       "        vertical-align: top;\n",
       "    }\n",
       "\n",
       "    .dataframe thead th {\n",
       "        text-align: right;\n",
       "    }\n",
       "</style>\n",
       "<table border=\"1\" class=\"dataframe\">\n",
       "  <thead>\n",
       "    <tr style=\"text-align: right;\">\n",
       "      <th></th>\n",
       "      <th>SAT</th>\n",
       "      <th>GPA</th>\n",
       "    </tr>\n",
       "  </thead>\n",
       "  <tbody>\n",
       "    <tr>\n",
       "      <th>0</th>\n",
       "      <td>1714</td>\n",
       "      <td>2.40</td>\n",
       "    </tr>\n",
       "    <tr>\n",
       "      <th>1</th>\n",
       "      <td>1664</td>\n",
       "      <td>2.52</td>\n",
       "    </tr>\n",
       "    <tr>\n",
       "      <th>2</th>\n",
       "      <td>1760</td>\n",
       "      <td>2.54</td>\n",
       "    </tr>\n",
       "    <tr>\n",
       "      <th>3</th>\n",
       "      <td>1685</td>\n",
       "      <td>2.74</td>\n",
       "    </tr>\n",
       "    <tr>\n",
       "      <th>4</th>\n",
       "      <td>1693</td>\n",
       "      <td>2.83</td>\n",
       "    </tr>\n",
       "    <tr>\n",
       "      <th>...</th>\n",
       "      <td>...</td>\n",
       "      <td>...</td>\n",
       "    </tr>\n",
       "    <tr>\n",
       "      <th>79</th>\n",
       "      <td>1936</td>\n",
       "      <td>3.71</td>\n",
       "    </tr>\n",
       "    <tr>\n",
       "      <th>80</th>\n",
       "      <td>1810</td>\n",
       "      <td>3.71</td>\n",
       "    </tr>\n",
       "    <tr>\n",
       "      <th>81</th>\n",
       "      <td>1987</td>\n",
       "      <td>3.73</td>\n",
       "    </tr>\n",
       "    <tr>\n",
       "      <th>82</th>\n",
       "      <td>1962</td>\n",
       "      <td>3.76</td>\n",
       "    </tr>\n",
       "    <tr>\n",
       "      <th>83</th>\n",
       "      <td>2050</td>\n",
       "      <td>3.81</td>\n",
       "    </tr>\n",
       "  </tbody>\n",
       "</table>\n",
       "<p>84 rows × 2 columns</p>\n",
       "</div>"
      ],
      "text/plain": [
       "     SAT   GPA\n",
       "0   1714  2.40\n",
       "1   1664  2.52\n",
       "2   1760  2.54\n",
       "3   1685  2.74\n",
       "4   1693  2.83\n",
       "..   ...   ...\n",
       "79  1936  3.71\n",
       "80  1810  3.71\n",
       "81  1987  3.73\n",
       "82  1962  3.76\n",
       "83  2050  3.81\n",
       "\n",
       "[84 rows x 2 columns]"
      ]
     },
     "execution_count": 150,
     "metadata": {},
     "output_type": "execute_result"
    }
   ],
   "source": [
    "data = pd.read_csv(\"./USA_Students.csv\")\n",
    "data"
   ]
  },
  {
   "attachments": {},
   "cell_type": "markdown",
   "metadata": {},
   "source": [
    "## Extract featrue and label from the data"
   ]
  },
  {
   "cell_type": "code",
   "execution_count": 151,
   "metadata": {},
   "outputs": [],
   "source": [
    "m = np.array(data[\"SAT\"]).size\n",
    "tmp = np.array(data[\"SAT\"]).reshape(m, 1)\n",
    "\n",
    "ones_col = np.ones((m, 1))\n",
    "X_matrix = np.concatenate((ones_col, tmp ), axis = 1)\n",
    "\n",
    "\n",
    "Y = np.array(data[\"GPA\"]).reshape((m, 1))\n",
    "X = np.array(data[\"SAT\"]).reshape((m, 1))"
   ]
  },
  {
   "attachments": {},
   "cell_type": "markdown",
   "metadata": {},
   "source": [
    "## Visualize Data"
   ]
  },
  {
   "cell_type": "code",
   "execution_count": 152,
   "metadata": {},
   "outputs": [
    {
     "data": {
      "image/png": "[encoded data removed]",
      "text/plain": [
       "<Figure size 640x480 with 1 Axes>"
      ]
     },
     "metadata": {},
     "output_type": "display_data"
    }
   ],
   "source": [
    "plt.scatter(X, Y)\n",
    "plt.title(\"GPA VS SAT\", fontsize=20)\n",
    "plt.xlabel(\"SAT\", fontsize=20)\n",
    "plt.ylabel(\"GPA\", fontsize=20)\n",
    "\n",
    "plt.show()"
   ]
  },
  {
   "attachments": {},
   "cell_type": "markdown",
   "metadata": {},
   "source": [
    "## Gradient Descent"
   ]
  },
  {
   "cell_type": "code",
   "execution_count": 153,
   "metadata": {},
   "outputs": [],
   "source": [
    "epochs = 100\n",
    "alpha = 0.0000001\n",
    "theta = np.array([[0.0], [0.0]]) # parameter vector\n",
    "h_theta = []\n",
    "\n",
    "\n",
    "for i in range(epochs):\n",
    "\n",
    "    Yd = np.dot(X_matrix, theta) # y predicted\n",
    "\n",
    "    d0 = np.sum(Yd - Y) # partial derivative of J(th0, th1) with respect to theta0\n",
    "    d1 = np.sum((Yd - Y) * X) # partial derivative of J(th0, th1) with respect to theta1\n",
    "\n",
    "    tmp0 = theta[0][0] - (alpha * (1 / m)) *  d0\n",
    "    tmp1 = theta[1][0] - (alpha * (1 / m)) *  d1\n",
    "\n",
    "    theta[0][0] = tmp0\n",
    "    theta[1][0] = tmp1\n",
    "    "
   ]
  },
  {
   "attachments": {},
   "cell_type": "markdown",
   "metadata": {},
   "source": [
    "## Prediction"
   ]
  },
  {
   "cell_type": "code",
   "execution_count": 154,
   "metadata": {},
   "outputs": [],
   "source": [
    "Ypred = np.dot(X_matrix, theta)"
   ]
  },
  {
   "cell_type": "code",
   "execution_count": 155,
   "metadata": {},
   "outputs": [
    {
     "data": {
      "image/png": "[encoded data removed]",
      "text/plain": [
       "<Figure size 640x480 with 1 Axes>"
      ]
     },
     "metadata": {},
     "output_type": "display_data"
    }
   ],
   "source": [
    "plt.scatter(X, Y)\n",
    "plt.title(\"GPA VS SAT\", fontsize=20)\n",
    "plt.xlabel(\"SAT\", fontsize=20)\n",
    "plt.ylabel(\"GPA\", fontsize=20)\n",
    "plt.plot(X, Ypred, color='red', linewidth = 3)\n",
    "\n",
    "plt.show()"
   ]
  },
  {
   "attachments": {},
   "cell_type": "markdown",
   "metadata": {},
   "source": [
    "## Model Evaluation"
   ]
  },
  {
   "cell_type": "code",
   "execution_count": 161,
   "metadata": {},
   "outputs": [
    {
     "name": "stdout",
     "output_type": "stream",
     "text": [
      "Mean Square Error = 0.0435\n"
     ]
    }
   ],
   "source": [
    "print(f\"Mean Square Error = {round(metrics.mean_squared_error(Y, Ypred), 4)}\")"
   ]
  }
 ],
 "metadata": {
  "kernelspec": {
   "display_name": "base",
   "language": "python",
   "name": "python3"
  },
  "language_info": {
   "codemirror_mode": {
    "name": "ipython",
    "version": 3
   },
   "file_extension": ".py",
   "mimetype": "text/x-python",
   "name": "python",
   "nbconvert_exporter": "python",
   "pygments_lexer": "ipython3",
   "version": "3.10.9"
  },
  "orig_nbformat": 4
 },
 "nbformat": 4,
 "nbformat_minor": 2
}
